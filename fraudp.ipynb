{
 "cells": [
  {
   "cell_type": "markdown",
   "metadata": {},
   "source": [
    "# Fraud script"
   ]
  },
  {
   "cell_type": "code",
   "execution_count": 1,
   "metadata": {},
   "outputs": [],
   "source": [
    "import pandas as pd"
   ]
  },
  {
   "cell_type": "code",
   "execution_count": 2,
   "metadata": {},
   "outputs": [],
   "source": [
    "# Load the dataset\n",
    "file_path = r'C:\\Users\\kumar\\OneDrive\\Desktop\\Programs\\officeP\\dummy_data_extended.xlsx'  # Change this to your actual file path\n",
    "df = pd.read_excel(file_path)"
   ]
  },
  {
   "cell_type": "code",
   "execution_count": 3,
   "metadata": {},
   "outputs": [
    {
     "data": {
      "text/html": [
       "<div>\n",
       "<style scoped>\n",
       "    .dataframe tbody tr th:only-of-type {\n",
       "        vertical-align: middle;\n",
       "    }\n",
       "\n",
       "    .dataframe tbody tr th {\n",
       "        vertical-align: top;\n",
       "    }\n",
       "\n",
       "    .dataframe thead th {\n",
       "        text-align: right;\n",
       "    }\n",
       "</style>\n",
       "<table border=\"1\" class=\"dataframe\">\n",
       "  <thead>\n",
       "    <tr style=\"text-align: right;\">\n",
       "      <th></th>\n",
       "      <th>Feedback</th>\n",
       "      <th>Comments</th>\n",
       "      <th>Class</th>\n",
       "    </tr>\n",
       "  </thead>\n",
       "  <tbody>\n",
       "    <tr>\n",
       "      <th>0</th>\n",
       "      <td>On 2023-03-01, I noticed unusual charges of $2...</td>\n",
       "      <td>Beware of hidden charges. Noticed an unexplain...</td>\n",
       "      <td>Y</td>\n",
       "    </tr>\n",
       "    <tr>\n",
       "      <th>1</th>\n",
       "      <td>Received a suspicious email from the seller on...</td>\n",
       "      <td>Suspicious activity detected with my payment m...</td>\n",
       "      <td>Y</td>\n",
       "    </tr>\n",
       "    <tr>\n",
       "      <th>2</th>\n",
       "      <td>Excellent product, received on time. No issues...</td>\n",
       "      <td>Great value for the price. Product performs we...</td>\n",
       "      <td>N</td>\n",
       "    </tr>\n",
       "    <tr>\n",
       "      <th>3</th>\n",
       "      <td>On 2023-05-05, found a discrepancy in the invo...</td>\n",
       "      <td>Encountered a potential scam. The seller reque...</td>\n",
       "      <td>Y</td>\n",
       "    </tr>\n",
       "    <tr>\n",
       "      <th>4</th>\n",
       "      <td>Product matches the description. However, noti...</td>\n",
       "      <td>Transaction was smooth and transparent. No iss...</td>\n",
       "      <td>Y</td>\n",
       "    </tr>\n",
       "  </tbody>\n",
       "</table>\n",
       "</div>"
      ],
      "text/plain": [
       "                                            Feedback  \\\n",
       "0  On 2023-03-01, I noticed unusual charges of $2...   \n",
       "1  Received a suspicious email from the seller on...   \n",
       "2  Excellent product, received on time. No issues...   \n",
       "3  On 2023-05-05, found a discrepancy in the invo...   \n",
       "4  Product matches the description. However, noti...   \n",
       "\n",
       "                                            Comments Class  \n",
       "0  Beware of hidden charges. Noticed an unexplain...     Y  \n",
       "1  Suspicious activity detected with my payment m...     Y  \n",
       "2  Great value for the price. Product performs we...     N  \n",
       "3  Encountered a potential scam. The seller reque...     Y  \n",
       "4  Transaction was smooth and transparent. No iss...     Y  "
      ]
     },
     "execution_count": 3,
     "metadata": {},
     "output_type": "execute_result"
    }
   ],
   "source": [
    "df.head()"
   ]
  },
  {
   "cell_type": "code",
   "execution_count": 4,
   "metadata": {},
   "outputs": [],
   "source": [
    "# Define fraud-related keywords based on analysis\n",
    "fraud_keywords = [\n",
    "    'unusual charges', 'suspicious email', 'discrepancy', 'duplicate transaction', \n",
    "    'charged twice', 'unauthorized access', 'hidden charges', 'suspicious activity', \n",
    "    'potential scam', 'phishing email', 'fraud alert', 'counterfeit', \n",
    "    'identity theft', 'security breach', 'unauthorized charges', 'phishing', 'scam', 'fraud'\n",
    "]\n",
    "\n",
    "def predict_fraud_and_keyword(feedback, comments, fraud_keywords):\n",
    "    text = feedback + \" \" + comments\n",
    "    for keyword in fraud_keywords:\n",
    "        if keyword in text:\n",
    "            return \"Yes\", keyword  # Fraud detected, return Yes and the keyword\n",
    "    return \"No\", None  # No fraud detected"
   ]
  },
  {
   "cell_type": "code",
   "execution_count": 6,
   "metadata": {},
   "outputs": [
    {
     "name": "stdout",
     "output_type": "stream",
     "text": [
      "Prediction: Yes, Keyword: unusual charges\n",
      "Prediction: Yes, Keyword: suspicious email\n",
      "Prediction: No\n",
      "Prediction: Yes, Keyword: discrepancy\n",
      "Prediction: Yes, Keyword: duplicate transaction\n",
      "Prediction: No\n",
      "Prediction: Yes, Keyword: charged twice\n",
      "Prediction: No\n",
      "Prediction: Yes, Keyword: fraud\n",
      "Prediction: No\n",
      "Prediction: No\n",
      "Prediction: Yes, Keyword: phishing\n",
      "Prediction: No\n",
      "Prediction: Yes, Keyword: unauthorized charges\n",
      "Prediction: Yes, Keyword: counterfeit\n",
      "Prediction: No\n",
      "Prediction: Yes, Keyword: identity theft\n",
      "Prediction: No\n",
      "Prediction: No\n",
      "Prediction: No\n"
     ]
    }
   ],
   "source": [
    "# Evaluate and print predictions with contributing keyword\n",
    "for index, row in df.iterrows():\n",
    "    prediction, keyword = predict_fraud_and_keyword(row['Feedback'], row['Comments'], fraud_keywords)\n",
    "    if prediction == \"Yes\":\n",
    "        print(f\"Prediction: {prediction}, Keyword: {keyword}\")\n",
    "    else:\n",
    "        print(f\"Prediction: {prediction}\")"
   ]
  },
  {
   "cell_type": "markdown",
   "metadata": {},
   "source": [
    "## New code with accuracy"
   ]
  },
  {
   "cell_type": "code",
   "execution_count": 8,
   "metadata": {},
   "outputs": [
    {
     "name": "stdout",
     "output_type": "stream",
     "text": [
      "Row 1: Prediction: Yes, Keyword: unusual charges\n",
      "Row 2: Prediction: Yes, Keyword: suspicious email\n",
      "Row 3: Prediction: No\n",
      "Row 4: Prediction: Yes, Keyword: discrepancy\n",
      "Row 5: Prediction: Yes, Keyword: duplicate transaction\n",
      "Row 6: Prediction: No\n",
      "Row 7: Prediction: Yes, Keyword: charged twice\n",
      "Row 8: Prediction: No\n",
      "Row 9: Prediction: Yes, Keyword: fraud\n",
      "Row 10: Prediction: No\n",
      "Row 11: Prediction: No\n",
      "Row 12: Prediction: Yes, Keyword: phishing\n",
      "Row 13: Prediction: No\n",
      "Row 14: Prediction: Yes, Keyword: unauthorized charges\n",
      "Row 15: Prediction: Yes, Keyword: counterfeit\n",
      "Row 16: Prediction: No\n",
      "Row 17: Prediction: Yes, Keyword: identity theft\n",
      "Row 18: Prediction: No\n",
      "Row 19: Prediction: No\n",
      "Row 20: Prediction: No\n",
      "\n",
      "Accuracy: 0.90\n"
     ]
    }
   ],
   "source": [
    "\n",
    "# Define fraud-related keywords\n",
    "fraud_keywords = [\n",
    "    'unusual charges', 'suspicious email', 'discrepancy', 'duplicate transaction', \n",
    "    'charged twice', 'unauthorized access', 'hidden charges', 'suspicious activity', \n",
    "    'potential scam', 'phishing email', 'fraud alert', 'counterfeit', \n",
    "    'identity theft', 'security breach', 'unauthorized charges', 'phishing', 'scam', 'fraud'\n",
    "]\n",
    "\n",
    "def predict_fraud_and_keyword(feedback, comments, fraud_keywords):\n",
    "    text = feedback + \" \" + comments\n",
    "    for keyword in fraud_keywords:\n",
    "        if keyword in text:\n",
    "            return \"Yes\", keyword  # Fraud detected, return Yes and the keyword\n",
    "    return \"No\", None  # No fraud detected\n",
    "\n",
    "# Initialize counters for accuracy calculation\n",
    "correct_predictions = 0\n",
    "total_predictions = len(df)\n",
    "\n",
    "# Process each row in the DataFrame\n",
    "for index, row in df.iterrows():\n",
    "    actual_class = \"Yes\" if row['Class'] == 'Y' else \"No\"\n",
    "    prediction, keyword = predict_fraud_and_keyword(row['Feedback'], row['Comments'], fraud_keywords)\n",
    "    \n",
    "    # Print prediction and contributing keyword for each row\n",
    "    if prediction == \"Yes\":\n",
    "        print(f\"Row {index+1}: Prediction: {prediction}, Keyword: {keyword}\")\n",
    "    else:\n",
    "        print(f\"Row {index+1}: Prediction: {prediction}\")\n",
    "    \n",
    "    # Update correct predictions count\n",
    "    if prediction == actual_class:\n",
    "        correct_predictions += 1\n",
    "\n",
    "# Calculate and print the accuracy\n",
    "accuracy = correct_predictions / total_predictions\n",
    "print(f\"\\nAccuracy: {accuracy:.2f}\")\n",
    "\n",
    "# Note: Replace '/path/to/your/dataset.xlsx' with the actual path to your dataset file.\n"
   ]
  },
  {
   "cell_type": "code",
   "execution_count": null,
   "metadata": {},
   "outputs": [],
   "source": [
    "import pandas as pd\n",
    "\n",
    "# Assume df is your DataFrame loaded from the Excel file\n",
    "# fraud_keywords_refined is defined as per your fraud indicators\n",
    "\n",
    "def predict_fraud_and_keyword(feedback, comments, fraud_keywords):\n",
    "    text = feedback + \" \" + comments\n",
    "    for keyword in fraud_keywords:\n",
    "        if keyword in text:\n",
    "            return \"Yes\", keyword\n",
    "    return \"No\", None\n",
    "\n",
    "predictions = []\n",
    "for _, row in df.iterrows():\n",
    "    prediction, keyword = predict_fraud_and_keyword(row['Feedback'], row['Comments'], fraud_keywords_refined)\n",
    "    predictions.append({\"Feedback\": row['Feedback'], \"Comments\": row['Comments'], \"Actual Class\": row['Class'], \"Predicted Class\": prediction, \"Keyword\": keyword if keyword else \"None\"})\n",
    "\n",
    "predictions_df = pd.DataFrame(predictions)\n",
    "predictions_df.to_excel(\"predictions.xlsx\", index=False)  # Save predictions\n",
    "\n",
    "# Calculate and save accuracy\n",
    "correct_predictions = len([1 for i in predictions if i['Actual Class'] == i['Predicted Class']])\n",
    "accuracy = correct_predictions / len(predictions)\n",
    "accuracy_df = pd.DataFrame({\"Accuracy\": [accuracy]})\n",
    "accuracy_df.to_excel(\"accuracy.xlsx\", index=False)  # Save accuracy in a separate file\n"
   ]
  }
 ],
 "metadata": {
  "kernelspec": {
   "display_name": "VirtualENV",
   "language": "python",
   "name": "python3"
  },
  "language_info": {
   "codemirror_mode": {
    "name": "ipython",
    "version": 3
   },
   "file_extension": ".py",
   "mimetype": "text/x-python",
   "name": "python",
   "nbconvert_exporter": "python",
   "pygments_lexer": "ipython3",
   "version": "3.9.13"
  }
 },
 "nbformat": 4,
 "nbformat_minor": 2
}
